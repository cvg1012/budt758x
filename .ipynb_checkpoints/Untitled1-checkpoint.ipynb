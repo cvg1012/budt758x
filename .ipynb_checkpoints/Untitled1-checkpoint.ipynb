{
 "cells": [
  {
   "cell_type": "code",
   "execution_count": 1,
   "metadata": {},
   "outputs": [],
   "source": [
    "import numpy as np\n",
    "import pandas as pd"
   ]
  },
  {
   "cell_type": "code",
   "execution_count": 2,
   "metadata": {},
   "outputs": [],
   "source": [
    "data78 = pd.read_csv('data1.csv', low_memory=False)\n",
    "data89 = pd.read_csv('data2.csv', low_memory=False)\n",
    "data910 = pd.read_csv('data3.csv', low_memory=False)\n",
    "data1011 = pd.read_csv('data4.csv', low_memory=False)\n",
    "data1112 = pd.read_csv('data5.csv', low_memory=False)\n",
    "data1213 = pd.read_csv('data6.csv', low_memory=False)\n",
    "data1314 = pd.read_csv('data7.csv', low_memory=False)\n",
    "data1415 = pd.read_csv('data8.csv', low_memory=False)\n",
    "data1516 = pd.read_csv('data9.csv', low_memory=False)\n",
    "# data1617 = pd.read_csv('data10.csv', low_memory=False)"
   ]
  },
  {
   "cell_type": "code",
   "execution_count": 3,
   "metadata": {},
   "outputs": [],
   "source": [
    "data78 = data78.dropna(axis=1, thresh=6000)\n",
    "data89 = data89.dropna(axis=1, thresh=6000)\n",
    "data910 = data910.dropna(axis=1, thresh=6000)\n",
    "data1011 = data1011.dropna(axis=1, thresh=6000)\n",
    "data1112 = data1112.dropna(axis=1, thresh=6000)\n",
    "data1213 = data1213.dropna(axis=1, thresh=6000)\n",
    "data1314 = data1314.dropna(axis=1, thresh=6000)\n",
    "data1415 = data1415.dropna(axis=1, thresh=6000)\n",
    "data1516 = data1516.dropna(axis=1, thresh=6000)\n",
    "# data1617 = data1617.dropna(axis=1, thresh=100)"
   ]
  },
  {
   "cell_type": "code",
   "execution_count": 5,
   "metadata": {},
   "outputs": [
    {
     "name": "stdout",
     "output_type": "stream",
     "text": [
      "219\n",
      "236\n",
      "228\n",
      "237\n",
      "229\n",
      "229\n",
      "228\n",
      "227\n",
      "228\n"
     ]
    }
   ],
   "source": [
    "data=[data78,data89,data910,data1011,data1112,data1213,data1314,data1415,data1516]#,data1617]\n",
    "\n",
    "for x in data:\n",
    "    print(len(x.columns))"
   ]
  },
  {
   "cell_type": "code",
   "execution_count": 12,
   "metadata": {},
   "outputs": [
    {
     "name": "stdout",
     "output_type": "stream",
     "text": [
      "DEP_DEBT_N\n",
      "NOTFIRSTGEN_DEBT_MDN\n",
      "MALE_DEBT_MDN\n",
      "FIRSTGEN_DEBT_MDN\n",
      "FEMALE_DEBT_MDN\n",
      "MALE_DEBT_MDN\n",
      "MALE_DEBT_MDN\n",
      "FIRSTGEN_DEBT_MDN\n",
      "MALE_DEBT_MDN\n"
     ]
    }
   ],
   "source": [
    "for x in data:\n",
    "    print(x.columns[178])"
   ]
  },
  {
   "cell_type": "code",
   "execution_count": null,
   "metadata": {},
   "outputs": [],
   "source": []
  }
 ],
 "metadata": {
  "kernelspec": {
   "display_name": "Python 3",
   "language": "python",
   "name": "python3"
  },
  "language_info": {
   "codemirror_mode": {
    "name": "ipython",
    "version": 3
   },
   "file_extension": ".py",
   "mimetype": "text/x-python",
   "name": "python",
   "nbconvert_exporter": "python",
   "pygments_lexer": "ipython3",
   "version": "3.7.3"
  }
 },
 "nbformat": 4,
 "nbformat_minor": 2
}
