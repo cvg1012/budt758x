{
 "cells": [
  {
   "cell_type": "markdown",
   "metadata": {},
   "source": [
    "## Section1: Project Overview\n",
    "\n",
    "       1. The US Student loan debts have reached a whopping $1.6 Trillion and continue growing exponentially as more and more students apply for Federal aids and grants. The student loans have crossed the total amounts of auto loans and credit card loans! The student debt crisis has caught the attention of a lot of top bureaucrats including President Trump, Elizabeth Warren, and Bernie Sanders. This resulted in Elizabeth Warren introduced a bill titled the \"Student Loan Debt Relief Act of 2019.\" The bill stated a plan that would cancel student loan debt for more than 95% of borrowers, and would entirely cancel student loan debt for more than 75% of Americans with student loan debt.\n",
    "\n",
    "    The population of interest is undergraduate and graduate students of US educational institutions who avail education loans. As the sampling is random and has enough observations the results of this study could be generalized for the population of interest.\n",
    "\n",
    "    2. These data provide insights into the performance of institutions that receive federal financial aid dollars, and the outcomes of the students of those institutions.\n",
    "\n",
    "    3. We have taken data over past 10 years from 2007 till 2017 and we will perform analysis on 10 data files. Each file has around 2000 columns. Hence we have analysed significance of each column and removed ones which we won't need for analysis.\n",
    "\n",
    "    4. In this python notebook We are performing some data cleaning operations on 10 csv files data by filtering out data columns and removing null columns.\n",
    "\n",
    "### Research Questions\n",
    "\n",
    "    1. Over 10 years 2007 to 2017, which educational institution/city/state has the highest average student debt? Do students from for-profit institutions have a similar loan repayment rate across different states?\n",
    "\n",
    "    2. What is the student debt amount per year in the United States? Can we see considerable growth? We will be showing this using time-series graphs.\n",
    "\n",
    "    3. Is there a relationship between the SAT score and the loan repayment rate for students? We will either use a scatterplot or regression analysis to show this.\n",
    "\n",
    "    P.S.: We will keep updating this as and when we proceed with the project from our previous document. \n"
   ]
  },
  {
   "cell_type": "markdown",
   "metadata": {},
   "source": [
    "\n",
    "## Section 2: Milestones and Progress\n",
    "\n",
    "    1. Data cleanig and Extraction(10/31) :\n",
    "    \n",
    "    We had datasets of each year with 1977 columns and approx. 7000 rows in each. \n",
    "    \n",
    "    From the 1977 columns we shortlisted 280 columns which were of interest to us for our analysis.\n",
    "    \n",
    "    We had a data dictionary with the datasets to help us choose our columns.\n",
    "\n",
    "    After choosing the columns, we imported the datasets into pandas dataframes.\n",
    "    \n",
    "    \n",
    "    2. Handling Null values and Missing Values(11/5):\n",
    "\n",
    "    We removed the columns having more null values than useful information. We extracted null columns from each dataset and made a dictionary with the count of each null column.\n",
    "    \n",
    "    After saving that null column list and found unique columns out of it. Then we have removed those unique null columns from all the 10 dataframes we created earlier.\n",
    "    \n",
    "### Unclear and lack of resources if any..\n",
    "\n",
    "    1. Initially, we wanted to compare the relation between the loan rates and the death rates at instituitions but we faced several hiccups like nulll values in multiple dataframes fro the concerned columns.\n",
    "\n",
    "    2. We are planning to scrape the death of students data in near future and analyze how it has changed (increased / decrease) over past 10 years.\n",
    "\n",
    "    3. Inconsistencies in the number of rows in all the dataframes. \n",
    "\n",
    "## Section 3: Data Acquisition and Data Cleaning.\n"
   ]
  },
  {
   "cell_type": "code",
   "execution_count": 4,
   "metadata": {},
   "outputs": [],
   "source": [
    "import warnings\n",
    "warnings.filterwarnings('ignore')\n",
    "import pandas as pd\n",
    "import numpy as np\n",
    "import matplotlib.pyplot as plt\n",
    "import seaborn as sns"
   ]
  },
  {
   "cell_type": "code",
   "execution_count": 2,
   "metadata": {},
   "outputs": [
    {
     "ename": "FileNotFoundError",
     "evalue": "[Errno 2] File b'MERGED2007_08_PP.csv' does not exist: b'MERGED2007_08_PP.csv'",
     "output_type": "error",
     "traceback": [
      "\u001b[1;31m---------------------------------------------------------------------------\u001b[0m",
      "\u001b[1;31mFileNotFoundError\u001b[0m                         Traceback (most recent call last)",
      "\u001b[1;32m<ipython-input-2-96c4e4955037>\u001b[0m in \u001b[0;36m<module>\u001b[1;34m\u001b[0m\n\u001b[0;32m      1\u001b[0m \u001b[1;31m#Loading all data frames into our python notebook\u001b[0m\u001b[1;33m\u001b[0m\u001b[1;33m\u001b[0m\u001b[1;33m\u001b[0m\u001b[0m\n\u001b[0;32m      2\u001b[0m \u001b[1;33m\u001b[0m\u001b[0m\n\u001b[1;32m----> 3\u001b[1;33m \u001b[0mdata78\u001b[0m \u001b[1;33m=\u001b[0m \u001b[0mpd\u001b[0m\u001b[1;33m.\u001b[0m\u001b[0mread_csv\u001b[0m\u001b[1;33m(\u001b[0m\u001b[1;34m'MERGED2007_08_PP.csv'\u001b[0m\u001b[1;33m,\u001b[0m \u001b[0mlow_memory\u001b[0m\u001b[1;33m=\u001b[0m\u001b[1;32mFalse\u001b[0m\u001b[1;33m)\u001b[0m\u001b[1;33m\u001b[0m\u001b[1;33m\u001b[0m\u001b[0m\n\u001b[0m\u001b[0;32m      4\u001b[0m \u001b[0mdata89\u001b[0m \u001b[1;33m=\u001b[0m \u001b[0mpd\u001b[0m\u001b[1;33m.\u001b[0m\u001b[0mread_csv\u001b[0m\u001b[1;33m(\u001b[0m\u001b[1;34m'MERGED2008_09_PP.csv'\u001b[0m\u001b[1;33m,\u001b[0m \u001b[0mlow_memory\u001b[0m\u001b[1;33m=\u001b[0m\u001b[1;32mFalse\u001b[0m\u001b[1;33m)\u001b[0m\u001b[1;33m\u001b[0m\u001b[1;33m\u001b[0m\u001b[0m\n\u001b[0;32m      5\u001b[0m \u001b[0mdata910\u001b[0m \u001b[1;33m=\u001b[0m \u001b[0mpd\u001b[0m\u001b[1;33m.\u001b[0m\u001b[0mread_csv\u001b[0m\u001b[1;33m(\u001b[0m\u001b[1;34m'MERGED2009_10_PP.csv'\u001b[0m\u001b[1;33m,\u001b[0m \u001b[0mlow_memory\u001b[0m\u001b[1;33m=\u001b[0m\u001b[1;32mFalse\u001b[0m\u001b[1;33m)\u001b[0m\u001b[1;33m\u001b[0m\u001b[1;33m\u001b[0m\u001b[0m\n",
      "\u001b[1;32m~\\AppData\\Local\\Continuum\\anaconda3\\lib\\site-packages\\pandas\\io\\parsers.py\u001b[0m in \u001b[0;36mparser_f\u001b[1;34m(filepath_or_buffer, sep, delimiter, header, names, index_col, usecols, squeeze, prefix, mangle_dupe_cols, dtype, engine, converters, true_values, false_values, skipinitialspace, skiprows, skipfooter, nrows, na_values, keep_default_na, na_filter, verbose, skip_blank_lines, parse_dates, infer_datetime_format, keep_date_col, date_parser, dayfirst, iterator, chunksize, compression, thousands, decimal, lineterminator, quotechar, quoting, doublequote, escapechar, comment, encoding, dialect, tupleize_cols, error_bad_lines, warn_bad_lines, delim_whitespace, low_memory, memory_map, float_precision)\u001b[0m\n\u001b[0;32m    700\u001b[0m                     skip_blank_lines=skip_blank_lines)\n\u001b[0;32m    701\u001b[0m \u001b[1;33m\u001b[0m\u001b[0m\n\u001b[1;32m--> 702\u001b[1;33m         \u001b[1;32mreturn\u001b[0m \u001b[0m_read\u001b[0m\u001b[1;33m(\u001b[0m\u001b[0mfilepath_or_buffer\u001b[0m\u001b[1;33m,\u001b[0m \u001b[0mkwds\u001b[0m\u001b[1;33m)\u001b[0m\u001b[1;33m\u001b[0m\u001b[1;33m\u001b[0m\u001b[0m\n\u001b[0m\u001b[0;32m    703\u001b[0m \u001b[1;33m\u001b[0m\u001b[0m\n\u001b[0;32m    704\u001b[0m     \u001b[0mparser_f\u001b[0m\u001b[1;33m.\u001b[0m\u001b[0m__name__\u001b[0m \u001b[1;33m=\u001b[0m \u001b[0mname\u001b[0m\u001b[1;33m\u001b[0m\u001b[1;33m\u001b[0m\u001b[0m\n",
      "\u001b[1;32m~\\AppData\\Local\\Continuum\\anaconda3\\lib\\site-packages\\pandas\\io\\parsers.py\u001b[0m in \u001b[0;36m_read\u001b[1;34m(filepath_or_buffer, kwds)\u001b[0m\n\u001b[0;32m    427\u001b[0m \u001b[1;33m\u001b[0m\u001b[0m\n\u001b[0;32m    428\u001b[0m     \u001b[1;31m# Create the parser.\u001b[0m\u001b[1;33m\u001b[0m\u001b[1;33m\u001b[0m\u001b[1;33m\u001b[0m\u001b[0m\n\u001b[1;32m--> 429\u001b[1;33m     \u001b[0mparser\u001b[0m \u001b[1;33m=\u001b[0m \u001b[0mTextFileReader\u001b[0m\u001b[1;33m(\u001b[0m\u001b[0mfilepath_or_buffer\u001b[0m\u001b[1;33m,\u001b[0m \u001b[1;33m**\u001b[0m\u001b[0mkwds\u001b[0m\u001b[1;33m)\u001b[0m\u001b[1;33m\u001b[0m\u001b[1;33m\u001b[0m\u001b[0m\n\u001b[0m\u001b[0;32m    430\u001b[0m \u001b[1;33m\u001b[0m\u001b[0m\n\u001b[0;32m    431\u001b[0m     \u001b[1;32mif\u001b[0m \u001b[0mchunksize\u001b[0m \u001b[1;32mor\u001b[0m \u001b[0miterator\u001b[0m\u001b[1;33m:\u001b[0m\u001b[1;33m\u001b[0m\u001b[1;33m\u001b[0m\u001b[0m\n",
      "\u001b[1;32m~\\AppData\\Local\\Continuum\\anaconda3\\lib\\site-packages\\pandas\\io\\parsers.py\u001b[0m in \u001b[0;36m__init__\u001b[1;34m(self, f, engine, **kwds)\u001b[0m\n\u001b[0;32m    893\u001b[0m             \u001b[0mself\u001b[0m\u001b[1;33m.\u001b[0m\u001b[0moptions\u001b[0m\u001b[1;33m[\u001b[0m\u001b[1;34m'has_index_names'\u001b[0m\u001b[1;33m]\u001b[0m \u001b[1;33m=\u001b[0m \u001b[0mkwds\u001b[0m\u001b[1;33m[\u001b[0m\u001b[1;34m'has_index_names'\u001b[0m\u001b[1;33m]\u001b[0m\u001b[1;33m\u001b[0m\u001b[1;33m\u001b[0m\u001b[0m\n\u001b[0;32m    894\u001b[0m \u001b[1;33m\u001b[0m\u001b[0m\n\u001b[1;32m--> 895\u001b[1;33m         \u001b[0mself\u001b[0m\u001b[1;33m.\u001b[0m\u001b[0m_make_engine\u001b[0m\u001b[1;33m(\u001b[0m\u001b[0mself\u001b[0m\u001b[1;33m.\u001b[0m\u001b[0mengine\u001b[0m\u001b[1;33m)\u001b[0m\u001b[1;33m\u001b[0m\u001b[1;33m\u001b[0m\u001b[0m\n\u001b[0m\u001b[0;32m    896\u001b[0m \u001b[1;33m\u001b[0m\u001b[0m\n\u001b[0;32m    897\u001b[0m     \u001b[1;32mdef\u001b[0m \u001b[0mclose\u001b[0m\u001b[1;33m(\u001b[0m\u001b[0mself\u001b[0m\u001b[1;33m)\u001b[0m\u001b[1;33m:\u001b[0m\u001b[1;33m\u001b[0m\u001b[1;33m\u001b[0m\u001b[0m\n",
      "\u001b[1;32m~\\AppData\\Local\\Continuum\\anaconda3\\lib\\site-packages\\pandas\\io\\parsers.py\u001b[0m in \u001b[0;36m_make_engine\u001b[1;34m(self, engine)\u001b[0m\n\u001b[0;32m   1120\u001b[0m     \u001b[1;32mdef\u001b[0m \u001b[0m_make_engine\u001b[0m\u001b[1;33m(\u001b[0m\u001b[0mself\u001b[0m\u001b[1;33m,\u001b[0m \u001b[0mengine\u001b[0m\u001b[1;33m=\u001b[0m\u001b[1;34m'c'\u001b[0m\u001b[1;33m)\u001b[0m\u001b[1;33m:\u001b[0m\u001b[1;33m\u001b[0m\u001b[1;33m\u001b[0m\u001b[0m\n\u001b[0;32m   1121\u001b[0m         \u001b[1;32mif\u001b[0m \u001b[0mengine\u001b[0m \u001b[1;33m==\u001b[0m \u001b[1;34m'c'\u001b[0m\u001b[1;33m:\u001b[0m\u001b[1;33m\u001b[0m\u001b[1;33m\u001b[0m\u001b[0m\n\u001b[1;32m-> 1122\u001b[1;33m             \u001b[0mself\u001b[0m\u001b[1;33m.\u001b[0m\u001b[0m_engine\u001b[0m \u001b[1;33m=\u001b[0m \u001b[0mCParserWrapper\u001b[0m\u001b[1;33m(\u001b[0m\u001b[0mself\u001b[0m\u001b[1;33m.\u001b[0m\u001b[0mf\u001b[0m\u001b[1;33m,\u001b[0m \u001b[1;33m**\u001b[0m\u001b[0mself\u001b[0m\u001b[1;33m.\u001b[0m\u001b[0moptions\u001b[0m\u001b[1;33m)\u001b[0m\u001b[1;33m\u001b[0m\u001b[1;33m\u001b[0m\u001b[0m\n\u001b[0m\u001b[0;32m   1123\u001b[0m         \u001b[1;32melse\u001b[0m\u001b[1;33m:\u001b[0m\u001b[1;33m\u001b[0m\u001b[1;33m\u001b[0m\u001b[0m\n\u001b[0;32m   1124\u001b[0m             \u001b[1;32mif\u001b[0m \u001b[0mengine\u001b[0m \u001b[1;33m==\u001b[0m \u001b[1;34m'python'\u001b[0m\u001b[1;33m:\u001b[0m\u001b[1;33m\u001b[0m\u001b[1;33m\u001b[0m\u001b[0m\n",
      "\u001b[1;32m~\\AppData\\Local\\Continuum\\anaconda3\\lib\\site-packages\\pandas\\io\\parsers.py\u001b[0m in \u001b[0;36m__init__\u001b[1;34m(self, src, **kwds)\u001b[0m\n\u001b[0;32m   1851\u001b[0m         \u001b[0mkwds\u001b[0m\u001b[1;33m[\u001b[0m\u001b[1;34m'usecols'\u001b[0m\u001b[1;33m]\u001b[0m \u001b[1;33m=\u001b[0m \u001b[0mself\u001b[0m\u001b[1;33m.\u001b[0m\u001b[0musecols\u001b[0m\u001b[1;33m\u001b[0m\u001b[1;33m\u001b[0m\u001b[0m\n\u001b[0;32m   1852\u001b[0m \u001b[1;33m\u001b[0m\u001b[0m\n\u001b[1;32m-> 1853\u001b[1;33m         \u001b[0mself\u001b[0m\u001b[1;33m.\u001b[0m\u001b[0m_reader\u001b[0m \u001b[1;33m=\u001b[0m \u001b[0mparsers\u001b[0m\u001b[1;33m.\u001b[0m\u001b[0mTextReader\u001b[0m\u001b[1;33m(\u001b[0m\u001b[0msrc\u001b[0m\u001b[1;33m,\u001b[0m \u001b[1;33m**\u001b[0m\u001b[0mkwds\u001b[0m\u001b[1;33m)\u001b[0m\u001b[1;33m\u001b[0m\u001b[1;33m\u001b[0m\u001b[0m\n\u001b[0m\u001b[0;32m   1854\u001b[0m         \u001b[0mself\u001b[0m\u001b[1;33m.\u001b[0m\u001b[0munnamed_cols\u001b[0m \u001b[1;33m=\u001b[0m \u001b[0mself\u001b[0m\u001b[1;33m.\u001b[0m\u001b[0m_reader\u001b[0m\u001b[1;33m.\u001b[0m\u001b[0munnamed_cols\u001b[0m\u001b[1;33m\u001b[0m\u001b[1;33m\u001b[0m\u001b[0m\n\u001b[0;32m   1855\u001b[0m \u001b[1;33m\u001b[0m\u001b[0m\n",
      "\u001b[1;32mpandas/_libs/parsers.pyx\u001b[0m in \u001b[0;36mpandas._libs.parsers.TextReader.__cinit__\u001b[1;34m()\u001b[0m\n",
      "\u001b[1;32mpandas/_libs/parsers.pyx\u001b[0m in \u001b[0;36mpandas._libs.parsers.TextReader._setup_parser_source\u001b[1;34m()\u001b[0m\n",
      "\u001b[1;31mFileNotFoundError\u001b[0m: [Errno 2] File b'MERGED2007_08_PP.csv' does not exist: b'MERGED2007_08_PP.csv'"
     ]
    }
   ],
   "source": [
    "#Loading all data frames into our python notebook\n",
    "\n",
    "data78 = pd.read_csv('MERGED2007_08_PP.csv', low_memory=False)\n",
    "data89 = pd.read_csv('MERGED2008_09_PP.csv', low_memory=False)\n",
    "data910 = pd.read_csv('MERGED2009_10_PP.csv', low_memory=False)\n",
    "data1011 = pd.read_csv('MERGED2010_11_PP.csv', low_memory=False)\n",
    "data1112 = pd.read_csv('MERGED2011_12_PP.csv', low_memory=False)\n",
    "data1213 = pd.read_csv('MERGED2012_13_PP.csv', low_memory=False)\n",
    "data1314 = pd.read_csv('MERGED2013_14_PP.csv', low_memory=False)\n",
    "data1415 = pd.read_csv('MERGED2014_15_PP.csv', low_memory=False)\n",
    "data1516 = pd.read_csv('MERGED2014_15_PP.csv', low_memory=False)\n",
    "data1617 = pd.read_csv('MERGED2016_17_PP.csv', low_memory=False)"
   ]
  },
  {
   "cell_type": "code",
   "execution_count": null,
   "metadata": {},
   "outputs": [],
   "source": [
    "#loading column dictionary \n",
    "# we have manually checked columns out of 2000 columns which we will be using for the analysis\n",
    "cnames=pd.read_csv('c_name.csv')\n",
    "\n",
    "#taking our column names from the dictionary and converting it to a list\n",
    "\n",
    "c_list=cnames['column name'].values.tolist()\n",
    "\n",
    "#Extracting all the column names that we require\n",
    "\n",
    "def select_columns(df):\n",
    "    df = df[[c for c in df.columns if c in c_list]]\n",
    "    return df\n",
    "\n",
    "data1 = select_columns(data78)\n",
    "data2 = select_columns(data89)\n",
    "data3 = select_columns(data910)\n",
    "data4 = select_columns(data1011)\n",
    "data5 = select_columns(data1112)\n",
    "data6 = select_columns(data1213)\n",
    "data7 = select_columns(data1314)\n",
    "data8 = select_columns(data1415)\n",
    "data9 = select_columns(data1516)\n",
    "data10 = select_columns(data1617)\n",
    "\n",
    "#Creating a list of column names with more number of null values across entire data set. \n",
    "\n",
    "list_null_col= []\n",
    "\n",
    "def create_null_list(df):\n",
    "    df_na= df.isna()\n",
    "    count_true=0\n",
    "    count_false=0\n",
    "    for c in c_list:\n",
    "#     print(c)\n",
    "        col= list(df_na[c])\n",
    "        for r in col:\n",
    "            if r == True:\n",
    "                count_true+=1\n",
    "    #             print(count_true)\n",
    "            else:\n",
    "                count_false+=1\n",
    "        if count_true >= count_false:\n",
    "            list_null_col.append(c)     #List with all columns with more number of null values\n",
    "            \n",
    "            \n",
    "list_df=[data1,data2,data3,data4,data5,data6,data7,data8,data9,data10]\n",
    "for x in list_df:\n",
    "    create_null_list(x)\n",
    "\n",
    "#Converting list into a numpy array to find unique column names, then converting it back to a list\n",
    "\n",
    "arr_null_col=np.array(list_null_col)\n",
    "list_null_col_unique=list(np.unique(arr_null_col))\n",
    "(list_null_col_unique)\n",
    "\n",
    "#Creating a dictionary of all the repeated columns and the no. of times the are repeated.\n",
    "\n",
    "d_null_col_count={}\n",
    "for col in list_null_col_unique:\n",
    "    d_null_col_count[col]=list_null_col.count(col)\n",
    "d_null_col_count\n",
    "\n",
    "\n",
    "final_na_col_list= []\n",
    "keys= list(d_null_col_count.keys())\n",
    "for k in keys:\n",
    "    if d_null_col_count[k] != 1:\n",
    "        final_na_col_list.append(k)\n",
    "(final_na_col_list)   # final list with columns having null values present in multiple dataframes\n",
    "\n",
    "\n",
    "#Dropping columns will null values in multiple dataframes\n",
    "\n",
    "for x in final_na_col_list:\n",
    "    c_list.remove(x)\n",
    "    "
   ]
  },
  {
   "cell_type": "markdown",
   "metadata": {},
   "source": [
    "### We have cleaned data and exported in the form of csv."
   ]
  },
  {
   "cell_type": "markdown",
   "metadata": {},
   "source": [
    "# Reasearch Questions\n",
    "\n",
    "##### What is the student debt amount per year in the United States? Can we see considerable growth?\n"
   ]
  },
  {
   "cell_type": "code",
   "execution_count": 1,
   "metadata": {},
   "outputs": [],
   "source": [
    "list_files = ['data78.csv', 'data89.csv','data910.csv','data1011.csv', 'data1112.csv', 'data1213.csv', 'data1314.csv', 'data1415.csv','data1516.csv'\n",
    "             ,'data1617.csv']\n",
    "# year_files = ['2007-08', '2008-09',2007-08] add year to tmp dataframe"
   ]
  },
  {
   "cell_type": "code",
   "execution_count": 2,
   "metadata": {},
   "outputs": [],
   "source": [
    "def yr_debt_us(f):\n",
    "    dic_yr = {}\n",
    "    df_year = pd.read_csv(f)\n",
    "#     df1 = df1[['INSTNM', 'CITY','STABBR','LATITUDE','LONGITUDE','GRAD_DEBT_MDN','WDRAW_DEBT_MDN']]\n",
    "    df_year['GRAD_DEBT_MDN'] =np.where(df_year['GRAD_DEBT_MDN']=='PrivacySuppressed',0,df_year['GRAD_DEBT_MDN'] )\n",
    "    df_year['GRAD_DEBT_MDN'] = pd.to_numeric(df_year['GRAD_DEBT_MDN'], errors='coerce')\n",
    "    df_year['GRAD_DEBT_MDN']=df_year['GRAD_DEBT_MDN'].replace(0,df_year['GRAD_DEBT_MDN'].mean())\n",
    "    df_year['WDRAW_DEBT_MDN'] =np.where(df_year['WDRAW_DEBT_MDN']=='PrivacySuppressed',0,df_year['WDRAW_DEBT_MDN'] )\n",
    "    df_year['WDRAW_DEBT_MDN'] = pd.to_numeric(df_year['WDRAW_DEBT_MDN'], errors='coerce')\n",
    "    df_year['WDRAW_DEBT_MDN']=df_year['WDRAW_DEBT_MDN'].replace(0,df_year['WDRAW_DEBT_MDN'].mean())\n",
    "    df_year['Total_of_Mean_Debt'] = df_year['GRAD_DEBT_MDN'] + df_year['WDRAW_DEBT_MDN']\n",
    "    dic_yr[f] = df_year['Total_of_Mean_Debt'].sum()\n",
    "#     print(dic_us)\n",
    "    return dic_yr"
   ]
  },
  {
   "cell_type": "code",
   "execution_count": 5,
   "metadata": {},
   "outputs": [],
   "source": [
    "dic_us = {} # rename all variables\n",
    "for i in list_files:\n",
    "    dic_us.update(yr_debt_us(i))\n",
    "\n",
    "df_us = pd.DataFrame(dic_us, index = [0])\n",
    "df_us = df_us.T\n",
    "# df_us.reset_index(inplace = True)\n",
    "df_us['year']= ['2007-08','2008-09','2009-10','2010-11','2011-12','2012-13', '2013-14','2014-15','2015-16','2016-17']\n",
    "\n",
    "df_us = df_us.rename(columns={0:'Debt_VT', 'index' : 'Year'})\n",
    "df_us = df_us.set_index('year')"
   ]
  },
  {
   "cell_type": "code",
   "execution_count": 6,
   "metadata": {},
   "outputs": [
    {
     "data": {
      "image/png": "[encoded data removed]",
      "text/plain": [
       "<Figure size 432x288 with 1 Axes>"
      ]
     },
     "metadata": {
      "needs_background": "light"
     },
     "output_type": "display_data"
    }
   ],
   "source": [
    "# df_us.set_index('year', inplace= True)\n",
    "\n",
    "ax = df_us.plot( marker='.', markersize= 10)\n",
    "\n",
    "ax.set(xlabel=\"Year\", ylabel=\"Total Mean Debt \\n (in trillion dollars)\", title= 'Rise in total mean debt in United States')\n",
    "ax.get_legend().remove()\n",
    "plt.xticks(rotation=45)\n",
    "fig_name='Rise in total mean debt in United States'\n",
    "plt.savefig(fig_name) "
   ]
  },
  {
   "cell_type": "markdown",
   "metadata": {},
   "source": [
    "## Interpretation\n",
    "\n",
    "We observe that the mean debt amount has risen steadily from less than a trillion dollars and rosen to nearly 2 trillion dollars over a period of 10 years. \n",
    "\n",
    "The amount reached a maximum of $1.7 trillion in the period 2014-2016.\n",
    "\n",
    "After 2016 the amount reduced a bit to $1.6 trillion and currently is stagnant at that figure."
   ]
  },
  {
   "cell_type": "markdown",
   "metadata": {},
   "source": [
    "## Question\n",
    "\n",
    "##### Which state has the highest average student debt? "
   ]
  },
  {
   "cell_type": "code",
   "execution_count": null,
   "metadata": {},
   "outputs": [],
   "source": [
    "def max_state_debt(f):\n",
    "    df1 = pd.read_csv(f)\n",
    "    df1 = df1[['INSTNM', 'CITY','STABBR','LATITUDE','LONGITUDE','GRAD_DEBT_MDN','WDRAW_DEBT_MDN']]\n",
    "    df1['GRAD_DEBT_MDN'] =np.where(df1['GRAD_DEBT_MDN']=='PrivacySuppressed',0,df1['GRAD_DEBT_MDN'] )\n",
    "    df1['GRAD_DEBT_MDN'] = pd.to_numeric(df1['GRAD_DEBT_MDN'], errors='coerce')\n",
    "    df1['GRAD_DEBT_MDN']=df1['GRAD_DEBT_MDN'].replace(0,df1['GRAD_DEBT_MDN'].mean())\n",
    "    df1['WDRAW_DEBT_MDN'] =np.where(df1['WDRAW_DEBT_MDN']=='PrivacySuppressed',0,df1['WDRAW_DEBT_MDN'] )\n",
    "    df1['WDRAW_DEBT_MDN'] = pd.to_numeric(df1['WDRAW_DEBT_MDN'], errors='coerce')\n",
    "    df1['WDRAW_DEBT_MDN']=df1['WDRAW_DEBT_MDN'].replace(0,df1['WDRAW_DEBT_MDN'].mean())\n",
    "    df1['Total_of_Mean_Debt'] = df1['GRAD_DEBT_MDN'] + df1['WDRAW_DEBT_MDN']\n",
    "    tmp = pd.DataFrame(df1.groupby(['STABBR']).mean()['Total_of_Mean_Debt'])\n",
    "    tmp.reset_index(inplace = True)\n",
    "    tmp = pd.DataFrame(tmp.sort_values(by = 'Total_of_Mean_Debt', ascending= False).head(1))\n",
    "    return tmp"
   ]
  },
  {
   "cell_type": "code",
   "execution_count": null,
   "metadata": {},
   "outputs": [],
   "source": [
    "df_conc = pd.DataFrame()\n",
    "for i in list_files:\n",
    "    df_conc_tmp = max_state_debt(i)\n",
    "#     print(df_conc_tmp)\n",
    "    df_conc= pd.concat([df_conc,df_conc_tmp])\n",
    "\n",
    "df_remove = pd.DataFrame(df_conc['STABBR'].value_counts()) # dataframe not needed here"
   ]
  },
  {
   "cell_type": "code",
   "execution_count": null,
   "metadata": {},
   "outputs": [],
   "source": [
    "def VT_state_debt(f):\n",
    "    dic_vt = {}\n",
    "    df_year = pd.read_csv(f)\n",
    "#     df1 = df1[['INSTNM', 'CITY','STABBR','LATITUDE','LONGITUDE','GRAD_DEBT_MDN','WDRAW_DEBT_MDN']]\n",
    "    df_year['GRAD_DEBT_MDN'] =np.where(df_year['GRAD_DEBT_MDN']=='PrivacySuppressed',0,df_year['GRAD_DEBT_MDN'] )\n",
    "    df_year['GRAD_DEBT_MDN'] = pd.to_numeric(df_year['GRAD_DEBT_MDN'], errors='coerce')\n",
    "    df_year['GRAD_DEBT_MDN']=df_year['GRAD_DEBT_MDN'].replace(0,df_year['GRAD_DEBT_MDN'].mean())\n",
    "    df_year['WDRAW_DEBT_MDN'] =np.where(df_year['WDRAW_DEBT_MDN']=='PrivacySuppressed',0,df_year['WDRAW_DEBT_MDN'] )\n",
    "    df_year['WDRAW_DEBT_MDN'] = pd.to_numeric(df_year['WDRAW_DEBT_MDN'], errors='coerce')\n",
    "    df_year['WDRAW_DEBT_MDN']=df_year['WDRAW_DEBT_MDN'].replace(0,df_year['WDRAW_DEBT_MDN'].mean())\n",
    "    df_year['Total_of_Mean_Debt'] = df_year['GRAD_DEBT_MDN'] + df_year['WDRAW_DEBT_MDN']\n",
    "    st_grp = df_year.groupby(['STABBR'])\n",
    "    dic_vt[f] = st_grp.get_group('VT').mean()['Total_of_Mean_Debt']\n",
    "    return dic_vt"
   ]
  },
  {
   "cell_type": "code",
   "execution_count": null,
   "metadata": {},
   "outputs": [],
   "source": [
    "m = {}\n",
    "for i in list_files:\n",
    "    m.update(VT_state_debt(i))\n",
    "   "
   ]
  },
  {
   "cell_type": "code",
   "execution_count": null,
   "metadata": {},
   "outputs": [],
   "source": [
    "df_vt = pd.DataFrame(m, index = [0])\n",
    "df_vt = df_vt.T\n",
    "df_vt.reset_index(inplace = True)"
   ]
  },
  {
   "cell_type": "code",
   "execution_count": null,
   "metadata": {},
   "outputs": [],
   "source": [
    "df_vt['year']= ['2007-08','2008-09','2009-10','2010-11','2011-12','2012-2013', '2013-14','2014-15','2015-16','2016-17']\n",
    "df_vt.set_index('year', inplace= True)\n",
    "df_vt.drop(['index'], axis=1, inplace = True)\n",
    "df_vt.rename(columns = {0: 'Total Mean Debt for Vermont'},inplace = True)\n",
    "df_vt"
   ]
  },
  {
   "cell_type": "markdown",
   "metadata": {},
   "source": [
    "## Interpretation:\n",
    "\n",
    "We calculated the highest mean debt by state in each year and then over a period of 10 years identified which state had the highest mean debt amount viz. Vermont.\n",
    "\n",
    "We then calculated the mean debt amount in the state of Vermont over a span of 10 years from 2007 to 2017. The time series plotted above tells us that the mean debt amount has increased considerably year after year."
   ]
  },
  {
   "cell_type": "markdown",
   "metadata": {},
   "source": [
    "## Hypothesis Testing"
   ]
  },
  {
   "cell_type": "code",
   "execution_count": null,
   "metadata": {},
   "outputs": [],
   "source": [
    "#Importing data from the latest year\n",
    "df = pd.read_csv('Most-Recent-Cohorts-All-Data-Elements.csv')"
   ]
  },
  {
   "cell_type": "code",
   "execution_count": null,
   "metadata": {},
   "outputs": [],
   "source": [
    "df_reg = df[['UNITID', 'INSTNM','CITY','STABBR','ZIP','PREDDEG','CONTROL', 'PPTUG_EF','NPT4_PUB','NPT4_PRIV','PCTFLOAN','RPY_3YR_RT_SUPP','COSTT4_A','MD_EARN_WNE_P10']]\n",
    "\n",
    "columns = {'UNITID':'ID','INSTNM':'Institution_Name', 'CITY':'City','STABBR':'State','ZIP':'Zip','PREDDEG':'Degrees_awarded','CONTROL':'Ownership','PPTUG_EF':'Part_Time_Share','NPT4_PUB':'Avg_net_price_public','NPT4_PRIV': 'Avg_net_price_pvt','PCTFLOAN': 'Loan_rate','RPY_3YR_RT_SUPP': 'Repay_rate','MD_EARN_WNE_P10': 'Earning_after_10','COSTT4_A':'Cost of attendance'}\n",
    "df_reg.rename(columns = columns, inplace = True)"
   ]
  },
  {
   "cell_type": "code",
   "execution_count": null,
   "metadata": {},
   "outputs": [],
   "source": [
    "# CLeaning and tidying data \n",
    "\n",
    "#Replacing null values with mean of the clumn\n",
    "\n",
    "df_reg['Repay_rate'] = np.where(df_reg['Repay_rate']=='PrivacySuppressed',0,df_reg['Repay_rate'])\n",
    "df_reg['Repay_rate'] = pd.to_numeric(df_reg['Repay_rate'], errors='coerce')\n",
    "\n",
    "df_reg['Earning_after_10'] = pd.to_numeric(df_reg['Earning_after_10'], errors='coerce')\n",
    "df_reg['Earning_after_10'].fillna(df_reg['Earning_after_10'].mean(), inplace=True)\n",
    "\n",
    "df_reg = df_reg.loc[df_reg['Repay_rate'].notna()]\n",
    "df_reg = df_reg.loc[df_reg['Cost of attendance'].notna()]\n",
    "\n",
    "#Converting categorical variables in Ownership Column \n",
    "\n",
    "df_reg['Ownership'] = np.where(df_reg['Ownership'] == 1, 'Public', (np.where(df_reg['Ownership'] == 2, 'Private non profit', 'Private for profit')))"
   ]
  },
  {
   "cell_type": "code",
   "execution_count": null,
   "metadata": {},
   "outputs": [],
   "source": [
    "#Getting mean values grouped by different types of institutions\n",
    "\n",
    "df_stat = pd.DataFrame(df_reg.groupby(by ='Ownership').mean())\n",
    "df_stat [['Repay_rate','Cost of attendance','Earning_after_10']]\n",
    "df_stat.reset_index(inplace = True)\n",
    "df_stat.set_index('Ownership', inplace = True)\n",
    "# df_sta.astype\n",
    "df_stat"
   ]
  },
  {
   "cell_type": "markdown",
   "metadata": {},
   "source": [
    "## Interpretation: \n",
    "\n",
    "As per the statistical analysis performed above, we can see that the best repayment rate can be observed by Private non profit institutions which is approximately 55.93%. Further, we explore which type of instituition has what repayment rate. "
   ]
  },
  {
   "cell_type": "code",
   "execution_count": null,
   "metadata": {},
   "outputs": [],
   "source": [
    "df_new=df_reg.copy()\n",
    "df_new['Repay_rate']=df_reg['Repay_rate']*100\n",
    "df_new.head()"
   ]
  },
  {
   "cell_type": "code",
   "execution_count": null,
   "metadata": {},
   "outputs": [],
   "source": [
    "x1 = (df_new[df_new['Ownership'] == 'Private for profit']['Repay_rate'])\n",
    "x2 = (df_new[df_new['Ownership'] == 'Private non profit']['Repay_rate'])\n",
    "x3 = (df_new[df_new['Ownership'] == 'Public']['Repay_rate'])"
   ]
  },
  {
   "cell_type": "code",
   "execution_count": null,
   "metadata": {
    "scrolled": false
   },
   "outputs": [],
   "source": [
    "colors = ['#E69F00', '#56B4E9', '#F0E442']\n",
    "names = ['Private for profit', 'Private non profit', 'Public']\n",
    "\n",
    "plt.figure(figsize=(12,5))\n",
    "plt.subplot(1, 2, 2)\n",
    "# plt.axis([0,90,0,200])\n",
    "plt.hist([x1, x2, x3], bins = 10,color = colors, label=names)\n",
    "plt.xlabel('Repayment rate%')\n",
    "plt.xticks(np.arange(0,100,10))\n",
    "plt.ylabel('Institution Count')\n",
    "plt.legend()\n",
    "\n",
    "plt.subplot(1, 2, 1)\n",
    "ax=(df_new['Repay_rate']).plot.hist(xticks = np.arange(0,100,10), bins=10)\n",
    "ax.set_xlabel(\"Repayment rate %\")\n",
    "ax.set_ylabel(\"Institution Count\")\n",
    "# plt.tight_layout()\n",
    "# f.figsize(15,15)\n",
    "\n",
    "from pylab import *\n",
    "fig = gcf()\n",
    "fig.suptitle(\"Repayment rate vs No. of instituitions\", fontsize=14)\n"
   ]
  },
  {
   "cell_type": "markdown",
   "metadata": {},
   "source": [
    "## Interpretation:\n",
    "3 year repayment rate : It is the fraction of students who were able to make a payment towards their loan repayment amount in the duration of 3 years from the time they entered repayment cycle. \n",
    "\n",
    "1. Majority of the private for profit instituitions have a repayment rate of only 20% which means that a large majority of students studying at for profit institutions have difficulty in repaying their debts.\n",
    "\n",
    "2. The repayment rate of public universities is a smooth normal curve with mean at around 40%. This means that a major fraction of students enrolled at public universities are not able to pay of their debts. \n",
    "\n",
    "3. This is a problematic situation wherein students from maximum number of institutions have not been able to contribute to their loan repayment due to possible reasons such as unemployment, insufficient funds, not enough return on investment etc.\n",
    "\n",
    "\n",
    "Conclusion: The repayment rate at private non profit instituitions is the best amongst the three with a mean if 60% which shows us that a major fraction of students are able to repay their debts. "
   ]
  },
  {
   "cell_type": "markdown",
   "metadata": {},
   "source": [
    "## Question\n",
    "\n",
    "##### Does the institution a student graduate from effect the loan repayment rate because of the income earned after graduating? \n",
    "##### What are the changes observed on the loan repayment rate after earning for 10 years?\n"
   ]
  },
  {
   "cell_type": "code",
   "execution_count": null,
   "metadata": {},
   "outputs": [],
   "source": [
    "import plotly.express as px\n",
    "fig = px.scatter(df_reg, x= 'Cost of attendance', y= 'Earning_after_10' , hover_name = 'Institution_Name', color='Ownership',title = 'Cost VS Returns',width=800, height=400)\n",
    "fig.update_xaxes(range=[0,80000])\n",
    "fig.update_yaxes(range=[0,150000])\n",
    "fig.show()"
   ]
  },
  {
   "cell_type": "markdown",
   "metadata": {},
   "source": [
    "# Interpretation\n",
    "From the scatterplot it can be seen that the cost of attendance for all the types of institutions vary majorly, something that can be confimed with the statistical analysis performed above. The cost of attendance is highest for Private non-profit institutions and their earnings seem to be spread over a wider range, thereby posessing high variance with respect to earnings. Certain outliers can be seen to exist in this case.\n",
    "\n",
    "The second highest cost of attendance appears to be for Private for profit institutions with their earnings over a period of 10 years lying close to each other in terms of variance. \n",
    "\n",
    "The lowest cost of attendance can be observed for Public institutions, which is very low compared to the cost of attendance associated with Priate non profit institutes. However, from the scatter plot it can be observed that the earnings from this investment is comparitive to the earnings received by gradautes from the Private non profit institutions. This goes to consolidate the high rate of repayment we observed in our statistical analysis above for Public institutions.\n",
    "\n",
    "When we observe the outliers, we notice the universities 'St. Louis College of Pharmacy' and 'Albany College of Pharmacy' give the best rate of returns after a period of 10 years. We can generalize this by saying that the pharmaceutical universities provide the best ROI.\n",
    "\n",
    "Another intresting outlier is the public univeristy 'United States Merchant Marine Academy' which gives you the returns as high as Harvard and Stanford but at nearly 1/4th the price.\n",
    "\n",
    "This answers our question whether the instituition that a student graduates from affects the loan repayment rate because of the income earned after graduating."
   ]
  },
  {
   "cell_type": "markdown",
   "metadata": {},
   "source": [
    "## Regression on most recent data"
   ]
  },
  {
   "cell_type": "markdown",
   "metadata": {},
   "source": [
    "Null hypothesis:The type of institution has no remarkable effect on the repayment rate observed after 3 years.\n",
    "\n",
    "Alternate hypothesis: The repayment rate of private for-profit institutions are different than repayment rate of all institutions.\n"
   ]
  },
  {
   "cell_type": "code",
   "execution_count": null,
   "metadata": {},
   "outputs": [],
   "source": [
    "import statsmodels.api as sm\n",
    "\n",
    "X = pd.get_dummies(df_reg['Ownership'], prefix_sep='=', drop_first=True)\n",
    "X = sm.add_constant(X)\n",
    "y = df_reg['Repay_rate'].dropna()\n",
    "\n",
    "model = sm.OLS(endog=y, exog=X)\n",
    "results = model.fit()\n",
    "results.summary()"
   ]
  },
  {
   "cell_type": "markdown",
   "metadata": {},
   "source": [
    "## Inference:\n",
    "\n",
    "From the linear model we can see that the institution type is a significant independent variable that affects the value of the dependent variable considered here, which is Repayment Rate. The base/ reference institute type here is Private for-profit. The inference from the regression model we can say that:\n",
    "\n",
    "On average, the repayment rate for Private Non Profit institute is 23.03% greater than the repayment rate observed for Private For Profit institute.\n",
    "On average, the repayment rate for Public institute is 13.9% greater than the repayment rate observed for Private For Profit institute.\n",
    "\n",
    "Hence, we can conclude that we reject our null hypthesis.\n",
    "The type of institution has effects on the repayment rate observed from these institutes. "
   ]
  },
  {
   "cell_type": "markdown",
   "metadata": {},
   "source": [
    "## Data Merging"
   ]
  },
  {
   "cell_type": "code",
   "execution_count": null,
   "metadata": {},
   "outputs": [],
   "source": [
    "df1 = pd.read_csv(\"data78.csv\")\n",
    "df1['Year'] = '2007-08'\n",
    "\n",
    "df2 = pd.read_csv(\"data89.csv\")\n",
    "df2['Year'] = '2008-09'\n",
    "\n",
    "df3 = pd.read_csv(\"data910.csv\")\n",
    "df3['Year'] = '2009-10'\n",
    "\n",
    "df4 = pd.read_csv(\"data1011.csv\")\n",
    "df4['Year'] = '2010-11'\n",
    "\n",
    "df5 = pd.read_csv(\"data1112.csv\")\n",
    "df5['Year'] = '2011-12'\n",
    "\n",
    "df6 = pd.read_csv(\"data1213.csv\")\n",
    "df6['Year'] = '2012-13'\n",
    "\n",
    "df7 = pd.read_csv(\"data1314.csv\")\n",
    "df7['Year'] = '2013-14'\n",
    "\n",
    "df8 = pd.read_csv(\"data1415.csv\")\n",
    "df8['Year'] = '2014-15'\n",
    "\n",
    "df9 = pd.read_csv(\"data1516.csv\")\n",
    "df9['Year'] = '2015-16'\n",
    "\n",
    "df10 = pd.read_csv(\"data1617.csv\")\n",
    "df10['Year'] = '2016-17'"
   ]
  },
  {
   "cell_type": "code",
   "execution_count": null,
   "metadata": {},
   "outputs": [],
   "source": [
    "df_all = pd.concat([df1,df2,df3,df4,df5,df6,df7,df8,df9,df10], axis=0, ignore_index=True)\n",
    "df_all_yr = df_all.loc[:, df_all.isnull().mean() <= .1]\n",
    "tmp_df= df_all_yr.copy()\n",
    "gender_df= df_all_yr.groupby(by='Year').mean()[['UGDS_MEN','UGDS_WOMEN']]*100\n",
    "gender_df= df_all_yr.groupby(by='STABBR').mean()[['UGDS_MEN','UGDS_WOMEN']]*100"
   ]
  },
  {
   "cell_type": "code",
   "execution_count": null,
   "metadata": {
    "scrolled": false
   },
   "outputs": [],
   "source": [
    "gender_df = gender_df.round({'UGDS_MEN': 2, 'UGDS_WOMEN': 2})\n",
    "\n",
    "gender_df['text'] = 'Vs Men %' + gender_df['UGDS_MEN'].astype(str)\n",
    "\n",
    "import plotly.graph_objects as go\n",
    "# gender_df['text']=gender_df['UGDS_MEN'] +'<br>'+ gender_df['UGDS_WOMEN']\n",
    "\n",
    "fig = go.Figure(data=go.Choropleth(\n",
    "    locations=gender_df.index, # Spatial coordinates\n",
    "#     z = gender_df['UGDS_MEN'].astype(float),\n",
    "    z = gender_df['UGDS_WOMEN'].astype(float), # Data to be color-coded\n",
    "    locationmode = 'USA-states', # set of locations match entries in `locations`\n",
    "    colorscale = 'Reds',\n",
    "    text = gender_df['text'], # hover text\n",
    "#     text = 'Men Grad rate' + '<br>' + gender_df['UGDS_MEN'],\n",
    "    marker_line_color='black',\n",
    "    colorbar_title = \" Women Percentage\",\n",
    "))\n",
    "\n",
    "fig.update_layout(\n",
    "    title_text = \"Women Vs Men Graduation rate\",\n",
    "    geo_scope='usa', # limite map scope to USA\n",
    ")\n",
    "\n",
    "fig.show()"
   ]
  },
  {
   "cell_type": "markdown",
   "metadata": {},
   "source": [
    "## Question\n",
    "\n",
    "##### Does an income group affect the choice made about taking an education loan ? Are new reforms in the education system going to affect the loan repayment rate in the future? Can the loan repayment rates for-profit and non-profit students match in the next 10 years’ time? \n",
    "\n"
   ]
  },
  {
   "cell_type": "code",
   "execution_count": null,
   "metadata": {},
   "outputs": [],
   "source": [
    "#df_Ln_In is dataframe of loan per income range for all 10 years\n",
    "df_Ln_In = df_all_yr [['DEP_INC_PCT_M1','DEP_INC_PCT_M2','DEP_INC_PCT_H1','DEP_INC_PCT_H2','Year']]"
   ]
  },
  {
   "cell_type": "code",
   "execution_count": null,
   "metadata": {},
   "outputs": [],
   "source": [
    "df_Ln_In.loc[df_Ln_In.DEP_INC_PCT_M1 == 'PrivacySuppressed', 'DEP_INC_PCT_M1'] = 0\n",
    "df_Ln_In.loc[df_Ln_In.DEP_INC_PCT_M2 == 'PrivacySuppressed', 'DEP_INC_PCT_M2'] = 0\n",
    "df_Ln_In.loc[df_Ln_In.DEP_INC_PCT_H1 == 'PrivacySuppressed', 'DEP_INC_PCT_H1'] = 0\n",
    "df_Ln_In.loc[df_Ln_In.DEP_INC_PCT_H2 == 'PrivacySuppressed', 'DEP_INC_PCT_H2'] = 0\n",
    "\n",
    "df_Ln_In['DEP_INC_PCT_M1'] = df_Ln_In['DEP_INC_PCT_M1'].apply(pd.to_numeric, errors='coerce')\n",
    "df_Ln_In['DEP_INC_PCT_M2'] = df_Ln_In['DEP_INC_PCT_M2'].apply(pd.to_numeric, errors='coerce')\n",
    "df_Ln_In['DEP_INC_PCT_H1'] = df_Ln_In['DEP_INC_PCT_H1'].apply(pd.to_numeric, errors='coerce')\n",
    "df_Ln_In['DEP_INC_PCT_H2'] = df_Ln_In['DEP_INC_PCT_H2'].apply(pd.to_numeric, errors='coerce')"
   ]
  },
  {
   "cell_type": "code",
   "execution_count": null,
   "metadata": {},
   "outputs": [],
   "source": [
    "df_Ln_In = df_Ln_In.drop(df_Ln_In[(df_Ln_In['DEP_INC_PCT_M1'] == 0) & (df_Ln_In.DEP_INC_PCT_M2 == 0) & (df_Ln_In.DEP_INC_PCT_H1 ==0) & (df_Ln_In.DEP_INC_PCT_H2 == 0)].index)\n",
    "# df_Ln_In = df_Ln_In.drop(df_Ln_In[(df_Ln_In.DEP_INC_PCT_M1 < 50) & (df_Ln_In.DEP_INC_PCT_M2 > 20)].index)"
   ]
  },
  {
   "cell_type": "code",
   "execution_count": null,
   "metadata": {},
   "outputs": [],
   "source": [
    "df_Ln_In.rename(columns={\"DEP_INC_PCT_M1\": \"Low class\", \"DEP_INC_PCT_M2\": \"Lower middle\",\"DEP_INC_PCT_H1\":\"Upper Middle\"\n",
    "                  ,\"DEP_INC_PCT_H2\":\"High class\"}, inplace = True)\n",
    "\n"
   ]
  },
  {
   "cell_type": "code",
   "execution_count": null,
   "metadata": {},
   "outputs": [],
   "source": [
    "results = df_Ln_In.groupby(by='Year').agg({'Low class': ['mean'], \n",
    "                                            'Lower middle': ['mean'],\n",
    "                                          'Upper Middle':['mean'],\n",
    "                                          'High class':['mean']})* 100\n",
    "results"
   ]
  },
  {
   "cell_type": "code",
   "execution_count": null,
   "metadata": {},
   "outputs": [],
   "source": [
    "\n",
    "ax=results.plot.bar()# title dependent students taken loan lables and legend  figure \n",
    "ax.set_xlabel(\"Year\")\n",
    "ax.set_ylabel(\"% of students\")\n",
    "ax.set_title('Loan pattern observed over different income levels')\n",
    "ax.legend(bbox_to_anchor=(1, 1, 1, 0), loc=2, ncol=1, mode=\"expand\", borderaxespad=0)"
   ]
  },
  {
   "cell_type": "markdown",
   "metadata": {},
   "source": [
    "## Interpretation:\n",
    "\n",
    "The lower income households take larger loans as comapred to the higher income households. What's intresting to note over here is how the no of loans taken by higher income households and upper middle income households have kept on reducing over the years while at the same time the loans taken by lower income households have kept on increasing. This shows high disparity between the median income of households.\n",
    "\n",
    "As per our hypothesis testing, we know that private for-profit institutes and public institutes have low costs of attendance however their repayment rates are considerably lower than private non-profit institutes. Keeping income groups in mind, it can be assumed that students from low class and lower middle class will attend public or private for profit institutes. This inherently will result in lower repayment rates (as per hypothesis) for students graduating from private for-profit institutes as compared to students graduating from private non-profits. \n",
    "\n",
    "If this trend continues, it wont be surprising to see the disparity that exists between the 2 income groups to increase further. Hence, authorities should look into either reducing costs of attendance for private non-profit or  improve repayment rates for other institutes."
   ]
  },
  {
   "cell_type": "code",
   "execution_count": null,
   "metadata": {},
   "outputs": [],
   "source": [
    "\n",
    "df_all_yr_new = df_all_yr.dropna()\n",
    "\n",
    "df_all_yr_new.rename(columns = {'FEMALE_DEBT_N': 'Female debt', 'MALE_DEBT_N': 'Male debt','LO_INC_DEBT_MDN': 'Low income','HI_INC_DEBT_MDN': 'High income'}, inplace = True)\n",
    "\n",
    "fig = px.scatter_matrix(df_all_yr_new, dimensions=['Female debt', 'Male debt','Low income','High income'], color=\"Year\",symbol = 'Year',title=\"Debt correlation Matrix\",)\n",
    "fig.show()"
   ]
  }
 ],
 "metadata": {
  "kernelspec": {
   "display_name": "Python 3",
   "language": "python",
   "name": "python3"
  },
  "language_info": {
   "codemirror_mode": {
    "name": "ipython",
    "version": 3
   },
   "file_extension": ".py",
   "mimetype": "text/x-python",
   "name": "python",
   "nbconvert_exporter": "python",
   "pygments_lexer": "ipython3",
   "version": "3.7.3"
  }
 },
 "nbformat": 4,
 "nbformat_minor": 2
}
